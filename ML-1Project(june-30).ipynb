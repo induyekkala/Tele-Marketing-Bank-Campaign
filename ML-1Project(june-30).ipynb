{
 "cells": [
  {
   "cell_type": "markdown",
   "metadata": {
    "colab_type": "text",
    "id": "tD2tCs27BV1H",
    "toc": true
   },
   "source": [
    "<h1>Table of Contents<span class=\"tocSkip\"></span></h1>\n",
    "<div class=\"toc\"><ul class=\"toc-item\"><li><span><a href=\"#Bank-Marketing¶\" data-toc-modified-id=\"Bank-Marketing¶-1\"><span class=\"toc-item-num\">1&nbsp;&nbsp;</span>Bank Marketing¶</a></span><ul class=\"toc-item\"><li><span><a href=\"#Problem-Statement:\" data-toc-modified-id=\"Problem-Statement:-1.1\"><span class=\"toc-item-num\">1.1&nbsp;&nbsp;</span>Problem Statement:</a></span></li><li><span><a href=\"#Data-Set-Information:\" data-toc-modified-id=\"Data-Set-Information:-1.2\"><span class=\"toc-item-num\">1.2&nbsp;&nbsp;</span>Data Set Information:</a></span></li><li><span><a href=\"#Model-Building\" data-toc-modified-id=\"Model-Building-1.3\"><span class=\"toc-item-num\">1.3&nbsp;&nbsp;</span>Model Building</a></span><ul class=\"toc-item\"><li><span><a href=\"#Train-Test-Split\" data-toc-modified-id=\"Train-Test-Split-1.3.1\"><span class=\"toc-item-num\">1.3.1&nbsp;&nbsp;</span>Train-Test Split</a></span></li><li><span><a href=\"#OverSampling\" data-toc-modified-id=\"OverSampling-1.3.2\"><span class=\"toc-item-num\">1.3.2&nbsp;&nbsp;</span>OverSampling</a></span></li><li><span><a href=\"#Applying-CrossValidation-on-Logistic-Regression,Random-Forest,Decision-Tree.\" data-toc-modified-id=\"Applying-CrossValidation-on-Logistic-Regression,Random-Forest,Decision-Tree.-1.3.3\"><span class=\"toc-item-num\">1.3.3&nbsp;&nbsp;</span>Applying CrossValidation on Logistic Regression,Random Forest,Decision Tree.</a></span></li></ul></li><li><span><a href=\"#Validation-Metrics\" data-toc-modified-id=\"Validation-Metrics-1.4\"><span class=\"toc-item-num\">1.4&nbsp;&nbsp;</span>Validation Metrics</a></span><ul class=\"toc-item\"><li><span><a href=\"#Confusion-Matrix-Generation\" data-toc-modified-id=\"Confusion-Matrix-Generation-1.4.1\"><span class=\"toc-item-num\">1.4.1&nbsp;&nbsp;</span>Confusion Matrix Generation</a></span><ul class=\"toc-item\"><li><span><a href=\"#Confusion-Matrix-for-RandomForest\" data-toc-modified-id=\"Confusion-Matrix-for-RandomForest-1.4.1.1\"><span class=\"toc-item-num\">1.4.1.1&nbsp;&nbsp;</span>Confusion Matrix for RandomForest</a></span></li><li><span><a href=\"#Confusion-Matric-for-Decision-Tree-Classifier\" data-toc-modified-id=\"Confusion-Matric-for-Decision-Tree-Classifier-1.4.1.2\"><span class=\"toc-item-num\">1.4.1.2&nbsp;&nbsp;</span>Confusion Matric for Decision Tree Classifier</a></span></li><li><span><a href=\"#Confusion-Matric-for-LogisticRegression\" data-toc-modified-id=\"Confusion-Matric-for-LogisticRegression-1.4.1.3\"><span class=\"toc-item-num\">1.4.1.3&nbsp;&nbsp;</span>Confusion Matric for LogisticRegression</a></span></li><li><span><a href=\"#Interpreting-Confusion-Matrix\" data-toc-modified-id=\"Interpreting-Confusion-Matrix-1.4.1.4\"><span class=\"toc-item-num\">1.4.1.4&nbsp;&nbsp;</span>Interpreting Confusion Matrix</a></span></li></ul></li><li><span><a href=\"#Displaying-precision-value\" data-toc-modified-id=\"Displaying-precision-value-1.4.2\"><span class=\"toc-item-num\">1.4.2&nbsp;&nbsp;</span>Displaying precision value</a></span></li><li><span><a href=\"#Bar-plot-to-display-precision-value\" data-toc-modified-id=\"Bar-plot-to-display-precision-value-1.4.3\"><span class=\"toc-item-num\">1.4.3&nbsp;&nbsp;</span>Bar plot to display precision-value</a></span></li><li><span><a href=\"#Hyper-Parameter-Tuning-Using-Grid-Search\" data-toc-modified-id=\"Hyper-Parameter-Tuning-Using-Grid-Search-1.4.4\"><span class=\"toc-item-num\">1.4.4&nbsp;&nbsp;</span>Hyper Parameter Tuning Using Grid Search</a></span><ul class=\"toc-item\"><li><span><a href=\"#Finding-the-Best-Paramters-and-Best-Estimators\" data-toc-modified-id=\"Finding-the-Best-Paramters-and-Best-Estimators-1.4.4.1\"><span class=\"toc-item-num\">1.4.4.1&nbsp;&nbsp;</span>Finding the Best Paramters and Best Estimators</a></span></li></ul></li><li><span><a href=\"#Fitting-the-models-on-Best-Parameters-and-Generating-Confusion-Matrix-to-find-Precision-value\" data-toc-modified-id=\"Fitting-the-models-on-Best-Parameters-and-Generating-Confusion-Matrix-to-find-Precision-value-1.4.5\"><span class=\"toc-item-num\">1.4.5&nbsp;&nbsp;</span>Fitting the models on Best Parameters and Generating Confusion Matrix to find Precision value</a></span><ul class=\"toc-item\"><li><span><a href=\"#Confusion-Matrix-on-Random-Forest-Classifier\" data-toc-modified-id=\"Confusion-Matrix-on-Random-Forest-Classifier-1.4.5.1\"><span class=\"toc-item-num\">1.4.5.1&nbsp;&nbsp;</span>Confusion Matrix on Random Forest Classifier</a></span></li><li><span><a href=\"#Confusion-Matrix-on-Decision-Tree-Classifier\" data-toc-modified-id=\"Confusion-Matrix-on-Decision-Tree-Classifier-1.4.5.2\"><span class=\"toc-item-num\">1.4.5.2&nbsp;&nbsp;</span>Confusion Matrix on Decision Tree Classifier</a></span></li><li><span><a href=\"#Confusion-Matrix-on-LogisticRegression\" data-toc-modified-id=\"Confusion-Matrix-on-LogisticRegression-1.4.5.3\"><span class=\"toc-item-num\">1.4.5.3&nbsp;&nbsp;</span>Confusion Matrix on LogisticRegression</a></span></li></ul></li><li><span><a href=\"#Measuring-Precision-values-for-Testing-Data\" data-toc-modified-id=\"Measuring-Precision-values-for-Testing-Data-1.4.6\"><span class=\"toc-item-num\">1.4.6&nbsp;&nbsp;</span>Measuring Precision values for Testing Data</a></span></li><li><span><a href=\"#Bar-Plot-to-display-testing-data-precision-values\" data-toc-modified-id=\"Bar-Plot-to-display-testing-data-precision-values-1.4.7\"><span class=\"toc-item-num\">1.4.7&nbsp;&nbsp;</span>Bar Plot to display testing data precision values</a></span></li><li><span><a href=\"#Final-Observation\" data-toc-modified-id=\"Final-Observation-1.4.8\"><span class=\"toc-item-num\">1.4.8&nbsp;&nbsp;</span>Final Observation</a></span></li></ul></li></ul></li></ul></div>"
   ]
  },
  {
   "cell_type": "markdown",
   "metadata": {
    "colab_type": "text",
    "id": "uMlE1XgHSB3W"
   },
   "source": [
    "# Bank Marketing¶\n",
    "## Problem Statement:\n",
    "The data is related with direct marketing campaigns (phone calls) of a Portuguese banking institution. The classification goal is to predict if the client will subscribe a term deposit (variable y).\n",
    "## Data Set Information:\n",
    "The data contains customers features like demographics and transaction history, the bank will be able to predict customer saving behaviours and identify which type of customers is more likely to make term deposits. The marketing campaigns were based on phone calls. Often, more than one contact to the same client was required, in order to access if the product (bank term deposit) would be ('yes') or ('no') subscribed. "
   ]
  },
  {
   "cell_type": "code",
   "execution_count": 1,
   "metadata": {
    "colab": {
     "base_uri": "https://localhost:8080/",
     "height": 71
    },
    "colab_type": "code",
    "id": "0slKng_USB3a",
    "outputId": "49147df7-93bc-4575-a560-4478e3d54f16"
   },
   "outputs": [
    {
     "name": "stderr",
     "output_type": "stream",
     "text": [
      "C:\\Users\\Indu\\Anaconda3\\lib\\site-packages\\sklearn\\externals\\six.py:31: DeprecationWarning: The module is deprecated in version 0.21 and will be removed in version 0.23 since we've dropped support for Python 2.7. Please rely on the official version of six (https://pypi.org/project/six/).\n",
      "  \"(https://pypi.org/project/six/).\", DeprecationWarning)\n"
     ]
    }
   ],
   "source": [
    "import numpy as np # linear algebra\n",
    "import pandas as pd # data processing, CSV file I/O (e.g. pd.read_csv)\n",
    "import seaborn as sns\n",
    "import matplotlib.pyplot as plt\n",
    "%matplotlib inline\n",
    "\n",
    "\n",
    "from sklearn.ensemble import RandomForestClassifier, GradientBoostingClassifier\n",
    "from sklearn.linear_model import LogisticRegression\n",
    "from sklearn.metrics import (accuracy_score, log_loss, classification_report)\n",
    "from imblearn.over_sampling import SMOTE\n",
    "#import xgboost\n",
    "\n",
    "# Import and suppress warnings\n",
    "import warnings\n",
    "warnings.filterwarnings('ignore')"
   ]
  },
  {
   "cell_type": "code",
   "execution_count": 2,
   "metadata": {
    "colab": {},
    "colab_type": "code",
    "id": "zOe-BPLTSB3j"
   },
   "outputs": [],
   "source": [
    "import pandas as pd\n",
    "bank = pd.read_csv('https://raw.githubusercontent.com/insaid2018/Term-2/master/Data/bank.csv')\n"
   ]
  },
  {
   "cell_type": "code",
   "execution_count": 3,
   "metadata": {
    "colab": {},
    "colab_type": "code",
    "id": "8ZqPdiOdSB3v"
   },
   "outputs": [],
   "source": [
    "bank.drop(columns=['emp.var.rate','euribor3m','previous'],inplace=True)"
   ]
  },
  {
   "cell_type": "code",
   "execution_count": 4,
   "metadata": {
    "colab": {},
    "colab_type": "code",
    "id": "pacz4UWvSB31"
   },
   "outputs": [],
   "source": [
    "def remove_outlier(df_in, col_name):\n",
    "    q1=df_in[col_name].quantile(0.25)\n",
    "    q3=df_in[col_name].quantile(0.75)\n",
    "    iqr=q3-q1\n",
    "    fence_low=q1-1.5*iqr\n",
    "    fence_high=q3+1.5*iqr\n",
    "    df_out=df_in.loc[(df_in[col_name]>fence_low)&(df_in[col_name] < fence_high)]\n",
    "    df_out\n",
    "    "
   ]
  },
  {
   "cell_type": "code",
   "execution_count": 5,
   "metadata": {
    "colab": {
     "base_uri": "https://localhost:8080/",
     "height": 283
    },
    "colab_type": "code",
    "id": "uVb7NPuaSB36",
    "outputId": "b8a46d65-033a-4d94-e71e-07f7d9bf5a3a"
   },
   "outputs": [
    {
     "data": {
      "image/png": "[encoded data removed]",
      "text/plain": [
       "<Figure size 432x288 with 1 Axes>"
      ]
     },
     "metadata": {},
     "output_type": "display_data"
    }
   ],
   "source": [
    "sns.distplot(bank['duration'],kde=True,rug=True)\n",
    "remove_outlier(bank,'duration')"
   ]
  },
  {
   "cell_type": "code",
   "execution_count": 6,
   "metadata": {
    "colab": {
     "base_uri": "https://localhost:8080/",
     "height": 283
    },
    "colab_type": "code",
    "id": "MNTwsuD-SB4D",
    "outputId": "8f99b421-3a66-4345-bfb9-03b9b4404393"
   },
   "outputs": [
    {
     "data": {
      "image/png": "[encoded data removed]",
      "text/plain": [
       "<Figure size 432x288 with 1 Axes>"
      ]
     },
     "metadata": {},
     "output_type": "display_data"
    }
   ],
   "source": [
    "sns.distplot(bank['age'],kde=True,rug=True)\n",
    "remove_outlier(bank,'age')"
   ]
  },
  {
   "cell_type": "code",
   "execution_count": 7,
   "metadata": {
    "colab": {},
    "colab_type": "code",
    "id": "3-9KhLMOSB4J"
   },
   "outputs": [],
   "source": [
    "# Define a dictionary for the target mapping\n",
    "target_map = {'yes':1, 'no':0}\n",
    "# Use the pandas apply method to numerically encode our attrition target variable\n",
    "bank[\"y_num\"] = bank[\"y\"].apply(lambda x: target_map[x])"
   ]
  },
  {
   "cell_type": "code",
   "execution_count": 8,
   "metadata": {
    "colab": {
     "base_uri": "https://localhost:8080/",
     "height": 102
    },
    "colab_type": "code",
    "id": "gFjYEyeJSB4N",
    "outputId": "60a27b60-248a-4836-c85d-5d5faf8d4e80"
   },
   "outputs": [
    {
     "data": {
      "text/plain": [
       "{dtype('int64'): Index(['age', 'duration', 'campaign', 'pdays', 'y_num'], dtype='object'),\n",
       " dtype('float64'): Index(['cons.price.idx', 'cons.conf.idx', 'nr.employed'], dtype='object'),\n",
       " dtype('O'): Index(['job', 'marital', 'education', 'default', 'housing', 'loan', 'contact',\n",
       "        'month', 'day_of_week', 'poutcome', 'y'],\n",
       "       dtype='object')}"
      ]
     },
     "execution_count": 8,
     "metadata": {},
     "output_type": "execute_result"
    }
   ],
   "source": [
    "bank.columns.to_series().groupby(bank.dtypes).groups"
   ]
  },
  {
   "cell_type": "code",
   "execution_count": 9,
   "metadata": {
    "colab": {},
    "colab_type": "code",
    "id": "HmqzV-QESB4S"
   },
   "outputs": [],
   "source": [
    "numerical = [u'age', u'cons.price.idx',  u'cons.conf.idx',\n",
    "       u'duration', u'campaign' ,\n",
    "        u'pdays', u'y_num',u'duration']"
   ]
  },
  {
   "cell_type": "code",
   "execution_count": 10,
   "metadata": {
    "colab": {},
    "colab_type": "code",
    "id": "F2hEGLJLSB4c"
   },
   "outputs": [],
   "source": [
    "# Drop the response_numerical column from banking dataset first \n",
    "bank = bank.drop(['y_num'], axis=1)\n",
    "\n",
    "# Empty list to store columns with categorical data\n",
    "categorical = []\n",
    "for col, value in bank.iteritems():\n",
    "    if value.dtype == 'object':\n",
    "        categorical.append(col)\n",
    "\n",
    "# Store the numerical columns in a list numerical\n",
    "numerical = bank.columns.difference(categorical)"
   ]
  },
  {
   "cell_type": "code",
   "execution_count": 11,
   "metadata": {
    "colab": {},
    "colab_type": "code",
    "id": "NDl5HcoWSB4g"
   },
   "outputs": [],
   "source": [
    "bank_cat = bank[categorical]\n",
    "bank_cat = bank_cat.drop(['y'], axis=1) # Dropping the target column"
   ]
  },
  {
   "cell_type": "markdown",
   "metadata": {
    "colab_type": "text",
    "id": "b8CDB9ocS74l"
   },
   "source": [
    "Creating dummy variables\n"
   ]
  },
  {
   "cell_type": "code",
   "execution_count": 12,
   "metadata": {
    "colab": {},
    "colab_type": "code",
    "id": "TCxIXQx_SB4l"
   },
   "outputs": [],
   "source": [
    "bank_cat = pd.get_dummies(bank_cat)"
   ]
  },
  {
   "cell_type": "code",
   "execution_count": 13,
   "metadata": {
    "colab": {},
    "colab_type": "code",
    "id": "vcylKelMSB4r"
   },
   "outputs": [],
   "source": [
    "bank_num = bank[numerical]"
   ]
  },
  {
   "cell_type": "code",
   "execution_count": 14,
   "metadata": {
    "colab": {
     "base_uri": "https://localhost:8080/",
     "height": 204
    },
    "colab_type": "code",
    "id": "-Fl3dFxjDhti",
    "outputId": "351c543b-1c6f-4ab7-8bb9-5f2d15c0dbb9"
   },
   "outputs": [
    {
     "data": {
      "text/html": [
       "<div>\n",
       "<style scoped>\n",
       "    .dataframe tbody tr th:only-of-type {\n",
       "        vertical-align: middle;\n",
       "    }\n",
       "\n",
       "    .dataframe tbody tr th {\n",
       "        vertical-align: top;\n",
       "    }\n",
       "\n",
       "    .dataframe thead th {\n",
       "        text-align: right;\n",
       "    }\n",
       "</style>\n",
       "<table border=\"1\" class=\"dataframe\">\n",
       "  <thead>\n",
       "    <tr style=\"text-align: right;\">\n",
       "      <th></th>\n",
       "      <th>age</th>\n",
       "      <th>campaign</th>\n",
       "      <th>cons.conf.idx</th>\n",
       "      <th>cons.price.idx</th>\n",
       "      <th>duration</th>\n",
       "      <th>nr.employed</th>\n",
       "      <th>pdays</th>\n",
       "    </tr>\n",
       "  </thead>\n",
       "  <tbody>\n",
       "    <tr>\n",
       "      <th>0</th>\n",
       "      <td>46</td>\n",
       "      <td>3</td>\n",
       "      <td>-36.4</td>\n",
       "      <td>93.994</td>\n",
       "      <td>329</td>\n",
       "      <td>5191.0</td>\n",
       "      <td>999</td>\n",
       "    </tr>\n",
       "    <tr>\n",
       "      <th>1</th>\n",
       "      <td>29</td>\n",
       "      <td>2</td>\n",
       "      <td>-46.2</td>\n",
       "      <td>92.893</td>\n",
       "      <td>132</td>\n",
       "      <td>5099.1</td>\n",
       "      <td>999</td>\n",
       "    </tr>\n",
       "    <tr>\n",
       "      <th>2</th>\n",
       "      <td>50</td>\n",
       "      <td>1</td>\n",
       "      <td>-47.1</td>\n",
       "      <td>93.075</td>\n",
       "      <td>206</td>\n",
       "      <td>5099.1</td>\n",
       "      <td>999</td>\n",
       "    </tr>\n",
       "    <tr>\n",
       "      <th>3</th>\n",
       "      <td>31</td>\n",
       "      <td>2</td>\n",
       "      <td>-36.4</td>\n",
       "      <td>93.994</td>\n",
       "      <td>199</td>\n",
       "      <td>5191.0</td>\n",
       "      <td>999</td>\n",
       "    </tr>\n",
       "    <tr>\n",
       "      <th>4</th>\n",
       "      <td>32</td>\n",
       "      <td>1</td>\n",
       "      <td>-40.8</td>\n",
       "      <td>92.963</td>\n",
       "      <td>350</td>\n",
       "      <td>5076.2</td>\n",
       "      <td>999</td>\n",
       "    </tr>\n",
       "  </tbody>\n",
       "</table>\n",
       "</div>"
      ],
      "text/plain": [
       "   age  campaign  cons.conf.idx  cons.price.idx  duration  nr.employed  pdays\n",
       "0   46         3          -36.4          93.994       329       5191.0    999\n",
       "1   29         2          -46.2          92.893       132       5099.1    999\n",
       "2   50         1          -47.1          93.075       206       5099.1    999\n",
       "3   31         2          -36.4          93.994       199       5191.0    999\n",
       "4   32         1          -40.8          92.963       350       5076.2    999"
      ]
     },
     "execution_count": 14,
     "metadata": {},
     "output_type": "execute_result"
    }
   ],
   "source": [
    "bank_num.head()"
   ]
  },
  {
   "cell_type": "code",
   "execution_count": 15,
   "metadata": {
    "colab": {},
    "colab_type": "code",
    "id": "10leT-hwDprD"
   },
   "outputs": [],
   "source": [
    "from sklearn.preprocessing import StandardScaler\n",
    "scaler = StandardScaler()\n",
    "scaler.fit(bank_num)\n",
    "scaler.transform(bank_num)\n",
    "# # Scale and center the data\n",
    "fdf_normalized = scaler.transform(bank_num)\n",
    "\n",
    "# # Create a pandas DataFrame\n",
    "fdf_normalized = pd.DataFrame(data=fdf_normalized, index=bank_num.index, columns=bank_num.columns)"
   ]
  },
  {
   "cell_type": "code",
   "execution_count": 16,
   "metadata": {
    "colab": {
     "base_uri": "https://localhost:8080/",
     "height": 204
    },
    "colab_type": "code",
    "id": "ArcqKAQ6D9td",
    "outputId": "9bb65f1f-a942-41a5-fa04-4cb2c17b3748"
   },
   "outputs": [
    {
     "data": {
      "text/html": [
       "<div>\n",
       "<style scoped>\n",
       "    .dataframe tbody tr th:only-of-type {\n",
       "        vertical-align: middle;\n",
       "    }\n",
       "\n",
       "    .dataframe tbody tr th {\n",
       "        vertical-align: top;\n",
       "    }\n",
       "\n",
       "    .dataframe thead th {\n",
       "        text-align: right;\n",
       "    }\n",
       "</style>\n",
       "<table border=\"1\" class=\"dataframe\">\n",
       "  <thead>\n",
       "    <tr style=\"text-align: right;\">\n",
       "      <th></th>\n",
       "      <th>age</th>\n",
       "      <th>campaign</th>\n",
       "      <th>cons.conf.idx</th>\n",
       "      <th>cons.price.idx</th>\n",
       "      <th>duration</th>\n",
       "      <th>nr.employed</th>\n",
       "      <th>pdays</th>\n",
       "    </tr>\n",
       "  </thead>\n",
       "  <tbody>\n",
       "    <tr>\n",
       "      <th>0</th>\n",
       "      <td>0.565276</td>\n",
       "      <td>0.155244</td>\n",
       "      <td>0.875332</td>\n",
       "      <td>0.726950</td>\n",
       "      <td>0.256387</td>\n",
       "      <td>0.333146</td>\n",
       "      <td>0.192245</td>\n",
       "    </tr>\n",
       "    <tr>\n",
       "      <th>1</th>\n",
       "      <td>-1.058150</td>\n",
       "      <td>-0.198495</td>\n",
       "      <td>-1.244964</td>\n",
       "      <td>-1.179631</td>\n",
       "      <td>-0.490646</td>\n",
       "      <td>-0.934626</td>\n",
       "      <td>0.192245</td>\n",
       "    </tr>\n",
       "    <tr>\n",
       "      <th>2</th>\n",
       "      <td>0.947259</td>\n",
       "      <td>-0.552233</td>\n",
       "      <td>-1.439685</td>\n",
       "      <td>-0.864465</td>\n",
       "      <td>-0.210035</td>\n",
       "      <td>-0.934626</td>\n",
       "      <td>0.192245</td>\n",
       "    </tr>\n",
       "    <tr>\n",
       "      <th>3</th>\n",
       "      <td>-0.867158</td>\n",
       "      <td>-0.198495</td>\n",
       "      <td>0.875332</td>\n",
       "      <td>0.726950</td>\n",
       "      <td>-0.236579</td>\n",
       "      <td>0.333146</td>\n",
       "      <td>0.192245</td>\n",
       "    </tr>\n",
       "    <tr>\n",
       "      <th>4</th>\n",
       "      <td>-0.771663</td>\n",
       "      <td>-0.552233</td>\n",
       "      <td>-0.076638</td>\n",
       "      <td>-1.058413</td>\n",
       "      <td>0.336020</td>\n",
       "      <td>-1.250534</td>\n",
       "      <td>0.192245</td>\n",
       "    </tr>\n",
       "  </tbody>\n",
       "</table>\n",
       "</div>"
      ],
      "text/plain": [
       "        age  campaign  cons.conf.idx  cons.price.idx  duration  nr.employed  \\\n",
       "0  0.565276  0.155244       0.875332        0.726950  0.256387     0.333146   \n",
       "1 -1.058150 -0.198495      -1.244964       -1.179631 -0.490646    -0.934626   \n",
       "2  0.947259 -0.552233      -1.439685       -0.864465 -0.210035    -0.934626   \n",
       "3 -0.867158 -0.198495       0.875332        0.726950 -0.236579     0.333146   \n",
       "4 -0.771663 -0.552233      -0.076638       -1.058413  0.336020    -1.250534   \n",
       "\n",
       "      pdays  \n",
       "0  0.192245  \n",
       "1  0.192245  \n",
       "2  0.192245  \n",
       "3  0.192245  \n",
       "4  0.192245  "
      ]
     },
     "execution_count": 16,
     "metadata": {},
     "output_type": "execute_result"
    }
   ],
   "source": [
    "fdf_normalized.head()"
   ]
  },
  {
   "cell_type": "code",
   "execution_count": 17,
   "metadata": {
    "colab": {},
    "colab_type": "code",
    "id": "mvedPcO8SB4x"
   },
   "outputs": [],
   "source": [
    "bank_final = pd.concat([fdf_normalized, bank_cat], axis=1)"
   ]
  },
  {
   "cell_type": "code",
   "execution_count": 18,
   "metadata": {
    "colab": {
     "base_uri": "https://localhost:8080/",
     "height": 85
    },
    "colab_type": "code",
    "id": "ErT5VUvFSB42",
    "outputId": "479c5864-5b6a-4fc1-f651-fd19e04c766b"
   },
   "outputs": [
    {
     "data": {
      "text/plain": [
       "0    0\n",
       "1    0\n",
       "2    0\n",
       "Name: y, dtype: int64"
      ]
     },
     "execution_count": 18,
     "metadata": {},
     "output_type": "execute_result"
    }
   ],
   "source": [
    "target_map = {'yes':1, 'no':0}\n",
    "# Use the pandas apply method to numerically encode our bank target variable\n",
    "target = bank[\"y\"].apply(lambda x: target_map[x])\n",
    "target.head(3)"
   ]
  },
  {
   "cell_type": "code",
   "execution_count": 19,
   "metadata": {
    "colab": {
     "base_uri": "https://localhost:8080/",
     "height": 34
    },
    "colab_type": "code",
    "id": "1Up_0lZVCVwm",
    "outputId": "277d9f8b-4bc1-40c6-84cd-805775483f8e"
   },
   "outputs": [
    {
     "data": {
      "text/plain": [
       "(10297, 59)"
      ]
     },
     "execution_count": 19,
     "metadata": {},
     "output_type": "execute_result"
    }
   ],
   "source": [
    "bank_final.shape"
   ]
  },
  {
   "cell_type": "code",
   "execution_count": 20,
   "metadata": {
    "colab": {
     "base_uri": "https://localhost:8080/",
     "height": 34
    },
    "colab_type": "code",
    "id": "VvgAT7CzCojw",
    "outputId": "efd460cf-3f0e-488c-f200-f5310115eddf"
   },
   "outputs": [
    {
     "data": {
      "text/plain": [
       "(10297,)"
      ]
     },
     "execution_count": 20,
     "metadata": {},
     "output_type": "execute_result"
    }
   ],
   "source": [
    "target.shape"
   ]
  },
  {
   "cell_type": "code",
   "execution_count": 21,
   "metadata": {
    "colab": {
     "base_uri": "https://localhost:8080/",
     "height": 241
    },
    "colab_type": "code",
    "id": "SmZB3r4zCwtc",
    "outputId": "5578aad2-6ebc-414f-bcd8-92fc2fc46ccf"
   },
   "outputs": [
    {
     "data": {
      "text/html": [
       "<div>\n",
       "<style scoped>\n",
       "    .dataframe tbody tr th:only-of-type {\n",
       "        vertical-align: middle;\n",
       "    }\n",
       "\n",
       "    .dataframe tbody tr th {\n",
       "        vertical-align: top;\n",
       "    }\n",
       "\n",
       "    .dataframe thead th {\n",
       "        text-align: right;\n",
       "    }\n",
       "</style>\n",
       "<table border=\"1\" class=\"dataframe\">\n",
       "  <thead>\n",
       "    <tr style=\"text-align: right;\">\n",
       "      <th></th>\n",
       "      <th>age</th>\n",
       "      <th>campaign</th>\n",
       "      <th>cons.conf.idx</th>\n",
       "      <th>cons.price.idx</th>\n",
       "      <th>duration</th>\n",
       "      <th>nr.employed</th>\n",
       "      <th>pdays</th>\n",
       "      <th>job_admin.</th>\n",
       "      <th>job_blue-collar</th>\n",
       "      <th>job_entrepreneur</th>\n",
       "      <th>...</th>\n",
       "      <th>month_oct</th>\n",
       "      <th>month_sep</th>\n",
       "      <th>day_of_week_fri</th>\n",
       "      <th>day_of_week_mon</th>\n",
       "      <th>day_of_week_thu</th>\n",
       "      <th>day_of_week_tue</th>\n",
       "      <th>day_of_week_wed</th>\n",
       "      <th>poutcome_failure</th>\n",
       "      <th>poutcome_nonexistent</th>\n",
       "      <th>poutcome_success</th>\n",
       "    </tr>\n",
       "  </thead>\n",
       "  <tbody>\n",
       "    <tr>\n",
       "      <th>0</th>\n",
       "      <td>0.565276</td>\n",
       "      <td>0.155244</td>\n",
       "      <td>0.875332</td>\n",
       "      <td>0.726950</td>\n",
       "      <td>0.256387</td>\n",
       "      <td>0.333146</td>\n",
       "      <td>0.192245</td>\n",
       "      <td>0</td>\n",
       "      <td>1</td>\n",
       "      <td>0</td>\n",
       "      <td>...</td>\n",
       "      <td>0</td>\n",
       "      <td>0</td>\n",
       "      <td>0</td>\n",
       "      <td>0</td>\n",
       "      <td>0</td>\n",
       "      <td>1</td>\n",
       "      <td>0</td>\n",
       "      <td>0</td>\n",
       "      <td>1</td>\n",
       "      <td>0</td>\n",
       "    </tr>\n",
       "    <tr>\n",
       "      <th>1</th>\n",
       "      <td>-1.058150</td>\n",
       "      <td>-0.198495</td>\n",
       "      <td>-1.244964</td>\n",
       "      <td>-1.179631</td>\n",
       "      <td>-0.490646</td>\n",
       "      <td>-0.934626</td>\n",
       "      <td>0.192245</td>\n",
       "      <td>1</td>\n",
       "      <td>0</td>\n",
       "      <td>0</td>\n",
       "      <td>...</td>\n",
       "      <td>0</td>\n",
       "      <td>0</td>\n",
       "      <td>0</td>\n",
       "      <td>0</td>\n",
       "      <td>0</td>\n",
       "      <td>0</td>\n",
       "      <td>1</td>\n",
       "      <td>0</td>\n",
       "      <td>1</td>\n",
       "      <td>0</td>\n",
       "    </tr>\n",
       "    <tr>\n",
       "      <th>2</th>\n",
       "      <td>0.947259</td>\n",
       "      <td>-0.552233</td>\n",
       "      <td>-1.439685</td>\n",
       "      <td>-0.864465</td>\n",
       "      <td>-0.210035</td>\n",
       "      <td>-0.934626</td>\n",
       "      <td>0.192245</td>\n",
       "      <td>0</td>\n",
       "      <td>0</td>\n",
       "      <td>0</td>\n",
       "      <td>...</td>\n",
       "      <td>0</td>\n",
       "      <td>0</td>\n",
       "      <td>1</td>\n",
       "      <td>0</td>\n",
       "      <td>0</td>\n",
       "      <td>0</td>\n",
       "      <td>0</td>\n",
       "      <td>0</td>\n",
       "      <td>1</td>\n",
       "      <td>0</td>\n",
       "    </tr>\n",
       "    <tr>\n",
       "      <th>3</th>\n",
       "      <td>-0.867158</td>\n",
       "      <td>-0.198495</td>\n",
       "      <td>0.875332</td>\n",
       "      <td>0.726950</td>\n",
       "      <td>-0.236579</td>\n",
       "      <td>0.333146</td>\n",
       "      <td>0.192245</td>\n",
       "      <td>1</td>\n",
       "      <td>0</td>\n",
       "      <td>0</td>\n",
       "      <td>...</td>\n",
       "      <td>0</td>\n",
       "      <td>0</td>\n",
       "      <td>0</td>\n",
       "      <td>0</td>\n",
       "      <td>1</td>\n",
       "      <td>0</td>\n",
       "      <td>0</td>\n",
       "      <td>0</td>\n",
       "      <td>1</td>\n",
       "      <td>0</td>\n",
       "    </tr>\n",
       "    <tr>\n",
       "      <th>4</th>\n",
       "      <td>-0.771663</td>\n",
       "      <td>-0.552233</td>\n",
       "      <td>-0.076638</td>\n",
       "      <td>-1.058413</td>\n",
       "      <td>0.336020</td>\n",
       "      <td>-1.250534</td>\n",
       "      <td>0.192245</td>\n",
       "      <td>1</td>\n",
       "      <td>0</td>\n",
       "      <td>0</td>\n",
       "      <td>...</td>\n",
       "      <td>0</td>\n",
       "      <td>0</td>\n",
       "      <td>0</td>\n",
       "      <td>0</td>\n",
       "      <td>0</td>\n",
       "      <td>1</td>\n",
       "      <td>0</td>\n",
       "      <td>0</td>\n",
       "      <td>1</td>\n",
       "      <td>0</td>\n",
       "    </tr>\n",
       "  </tbody>\n",
       "</table>\n",
       "<p>5 rows × 59 columns</p>\n",
       "</div>"
      ],
      "text/plain": [
       "        age  campaign  cons.conf.idx  cons.price.idx  duration  nr.employed  \\\n",
       "0  0.565276  0.155244       0.875332        0.726950  0.256387     0.333146   \n",
       "1 -1.058150 -0.198495      -1.244964       -1.179631 -0.490646    -0.934626   \n",
       "2  0.947259 -0.552233      -1.439685       -0.864465 -0.210035    -0.934626   \n",
       "3 -0.867158 -0.198495       0.875332        0.726950 -0.236579     0.333146   \n",
       "4 -0.771663 -0.552233      -0.076638       -1.058413  0.336020    -1.250534   \n",
       "\n",
       "      pdays  job_admin.  job_blue-collar  job_entrepreneur        ...         \\\n",
       "0  0.192245           0                1                 0        ...          \n",
       "1  0.192245           1                0                 0        ...          \n",
       "2  0.192245           0                0                 0        ...          \n",
       "3  0.192245           1                0                 0        ...          \n",
       "4  0.192245           1                0                 0        ...          \n",
       "\n",
       "   month_oct  month_sep  day_of_week_fri  day_of_week_mon  day_of_week_thu  \\\n",
       "0          0          0                0                0                0   \n",
       "1          0          0                0                0                0   \n",
       "2          0          0                1                0                0   \n",
       "3          0          0                0                0                1   \n",
       "4          0          0                0                0                0   \n",
       "\n",
       "   day_of_week_tue  day_of_week_wed  poutcome_failure  poutcome_nonexistent  \\\n",
       "0                1                0                 0                     1   \n",
       "1                0                1                 0                     1   \n",
       "2                0                0                 0                     1   \n",
       "3                0                0                 0                     1   \n",
       "4                1                0                 0                     1   \n",
       "\n",
       "   poutcome_success  \n",
       "0                 0  \n",
       "1                 0  \n",
       "2                 0  \n",
       "3                 0  \n",
       "4                 0  \n",
       "\n",
       "[5 rows x 59 columns]"
      ]
     },
     "execution_count": 21,
     "metadata": {},
     "output_type": "execute_result"
    }
   ],
   "source": [
    "bank_final.head()"
   ]
  },
  {
   "cell_type": "markdown",
   "metadata": {
    "colab_type": "text",
    "id": "8SIfrUHzBV2j"
   },
   "source": [
    "## Model Building"
   ]
  },
  {
   "cell_type": "markdown",
   "metadata": {
    "colab_type": "text",
    "id": "lkCRqRl9BV2k"
   },
   "source": [
    "### Train-Test Split"
   ]
  },
  {
   "cell_type": "code",
   "execution_count": 0,
   "metadata": {
    "colab": {
     "base_uri": "https://localhost:8080/",
     "height": 286
    },
    "colab_type": "code",
    "id": "RaYW28_gE7BI",
    "outputId": "36e9e59e-a875-46e2-8f3e-ce5f3b0f6a6f"
   },
   "outputs": [
    {
     "data": {
      "text/plain": [
       "<matplotlib.axes._subplots.AxesSubplot at 0x7fb4103f7cc0>"
      ]
     },
     "execution_count": 20,
     "metadata": {
      "tags": []
     },
     "output_type": "execute_result"
    },
    {
     "data": {
      "image/png": "[encoded data removed]",
      "text/plain": [
       "<Figure size 432x288 with 1 Axes>"
      ]
     },
     "metadata": {
      "tags": []
     },
     "output_type": "display_data"
    }
   ],
   "source": [
    "target.hist()"
   ]
  },
  {
   "cell_type": "markdown",
   "metadata": {
    "colab_type": "text",
    "id": "0YZL--lDBV2n"
   },
   "source": [
    "### OverSampling"
   ]
  },
  {
   "cell_type": "markdown",
   "metadata": {
    "colab_type": "text",
    "id": "o-5RImKrTLjd"
   },
   "source": [
    "As the data is imbalanced in our target variable.Here, I will use an oversampling technique known as SMOTE to treat this imbalance.SMOTE to oversample due to the skewness in target Since we have already noted the severe imbalance in the values within the target variable, let us implement the SMOTE method in the dealing with this skewed value via the imblearn Python package.\n",
    "\n",
    "\n"
   ]
  },
  {
   "cell_type": "code",
   "execution_count": 22,
   "metadata": {
    "colab": {},
    "colab_type": "code",
    "id": "GsaIZNmdEYy5"
   },
   "outputs": [],
   "source": [
    "oversampler=SMOTE(random_state=0)\n",
    "smote_train, smote_target = oversampler.fit_sample(bank_final,target)"
   ]
  },
  {
   "cell_type": "code",
   "execution_count": 23,
   "metadata": {
    "colab": {
     "base_uri": "https://localhost:8080/",
     "height": 315
    },
    "colab_type": "code",
    "id": "NljSKUxqFL4F",
    "outputId": "d09fead3-5072-4477-a1a9-3296ad739f61"
   },
   "outputs": [
    {
     "data": {
      "text/plain": [
       "array([[<matplotlib.axes._subplots.AxesSubplot object at 0x0000029654194630>]],\n",
       "      dtype=object)"
      ]
     },
     "execution_count": 23,
     "metadata": {},
     "output_type": "execute_result"
    },
    {
     "data": {
      "image/png": "[encoded data removed]",
      "text/plain": [
       "<Figure size 432x288 with 1 Axes>"
      ]
     },
     "metadata": {},
     "output_type": "display_data"
    }
   ],
   "source": [
    "pd.DataFrame(smote_target).hist()"
   ]
  },
  {
   "cell_type": "code",
   "execution_count": 24,
   "metadata": {
    "colab": {},
    "colab_type": "code",
    "id": "1NHRIXgWSB48"
   },
   "outputs": [],
   "source": [
    "from sklearn.model_selection import cross_val_score\n",
    "from sklearn.model_selection import train_test_split\n",
    "\n",
    "# Split data into train and test sets as well as for validation and testing\n",
    "X_train, X_test,y_train,y_test = train_test_split(pd.DataFrame(smote_train), \n",
    "                                                         pd.DataFrame(smote_target), \n",
    "                                                         train_size= 0.80,\n",
    "                                                         random_state=0);\n"
   ]
  },
  {
   "cell_type": "markdown",
   "metadata": {
    "colab_type": "text",
    "id": "VaZ_wQuPBV2q"
   },
   "source": [
    "To apply any machine learning algorithm on the dataset, basically there are 4 steps:<br>\n",
    "1.Load the algorithm<br>\n",
    "2.Instantiate and Fit the model to the training dataset<br>\n",
    "3.Prediction on the test set<br>\n",
    "4.Calculating the accuracy of the model<br>"
   ]
  },
  {
   "cell_type": "markdown",
   "metadata": {
    "colab_type": "text",
    "id": "9jP6MPe9aQU_"
   },
   "source": [
    "### Applying CrossValidation on Logistic Regression,Random Forest,Decision Tree."
   ]
  },
  {
   "cell_type": "code",
   "execution_count": 30,
   "metadata": {
    "colab": {},
    "colab_type": "code",
    "id": "9i-dQwZ9SB5w"
   },
   "outputs": [],
   "source": [
    "# selection of algorithms to consider and set performance measure\n",
    "from sklearn.tree import DecisionTreeClassifier\n",
    "from sklearn import linear_model\n",
    "models = []\n",
    "models.append(('Logistic Regression', LogisticRegression(solver='liblinear', random_state=7,\n",
    "                                                         class_weight='balanced')))\n",
    "models.append(('Random Forest', RandomForestClassifier(\n",
    "    n_estimators=100, random_state=7)))\n",
    "models.append(('Decision Tree Classifier',DecisionTreeClassifier(random_state=7)))"
   ]
  },
  {
   "cell_type": "code",
   "execution_count": 31,
   "metadata": {
    "colab": {
     "base_uri": "https://localhost:8080/",
     "height": 142
    },
    "colab_type": "code",
    "id": "_OtbocGgSB5y",
    "outputId": "a7566885-72af-431f-c323-826e1df6c7fa"
   },
   "outputs": [
    {
     "data": {
      "text/html": [
       "<div>\n",
       "<style scoped>\n",
       "    .dataframe tbody tr th:only-of-type {\n",
       "        vertical-align: middle;\n",
       "    }\n",
       "\n",
       "    .dataframe tbody tr th {\n",
       "        vertical-align: top;\n",
       "    }\n",
       "\n",
       "    .dataframe thead th {\n",
       "        text-align: right;\n",
       "    }\n",
       "</style>\n",
       "<table border=\"1\" class=\"dataframe\">\n",
       "  <thead>\n",
       "    <tr style=\"text-align: right;\">\n",
       "      <th></th>\n",
       "      <th>CV Mean</th>\n",
       "      <th>Std</th>\n",
       "    </tr>\n",
       "  </thead>\n",
       "  <tbody>\n",
       "    <tr>\n",
       "      <th>Logistic Regression</th>\n",
       "      <td>0.863514</td>\n",
       "      <td>0.011419</td>\n",
       "    </tr>\n",
       "    <tr>\n",
       "      <th>Decision Tree</th>\n",
       "      <td>0.911407</td>\n",
       "      <td>0.012877</td>\n",
       "    </tr>\n",
       "    <tr>\n",
       "      <th>Random Forest</th>\n",
       "      <td>0.950051</td>\n",
       "      <td>0.008335</td>\n",
       "    </tr>\n",
       "  </tbody>\n",
       "</table>\n",
       "</div>"
      ],
      "text/plain": [
       "                      CV Mean       Std\n",
       "Logistic Regression  0.863514  0.011419\n",
       "Decision Tree        0.911407  0.012877\n",
       "Random Forest        0.950051  0.008335"
      ]
     },
     "execution_count": 31,
     "metadata": {},
     "output_type": "execute_result"
    }
   ],
   "source": [
    "from sklearn.model_selection import KFold #for K-fold cross validation\n",
    "from sklearn.model_selection import cross_val_score #score evaluation\n",
    "from sklearn.model_selection import cross_val_predict #prediction\n",
    "from sklearn.tree import DecisionTreeClassifier\n",
    "kfold = KFold(n_splits=10, random_state=22) # k=10, split the data into 10 equal parts\n",
    "xyz=[]\n",
    "accuracy=[]\n",
    "std=[]\n",
    "classifiers=['Logistic Regression','Decision Tree','Random Forest',]\n",
    "models=[LogisticRegression(),DecisionTreeClassifier(),RandomForestClassifier(n_estimators=100)]\n",
    "for i in models:\n",
    "    model = i\n",
    "    cv_result = cross_val_score(model,X_train,y_train, cv = kfold,scoring = \"precision\")\n",
    "    cv_result=cv_result\n",
    "    xyz.append(cv_result.mean())\n",
    "    std.append(cv_result.std())\n",
    "    accuracy.append(cv_result)\n",
    "new_models_dataframe2=pd.DataFrame({'CV Mean':xyz,'Std':std},index=classifiers)       \n",
    "new_models_dataframe2"
   ]
  },
  {
   "cell_type": "markdown",
   "metadata": {
    "colab_type": "text",
    "id": "gD-serkISB52"
   },
   "source": [
    "After applying K-Fold cross validation to all the models,the evaluating metric considered here is precision and it is measured suing crossvalidation mean and StandardDeviation.Among all the models RandomForest has given less Standard error so RandomForest can be considered as best model for testing on test data.     "
   ]
  },
  {
   "cell_type": "markdown",
   "metadata": {
    "colab_type": "text",
    "id": "OlTa6uUWBV3Z"
   },
   "source": [
    "## Validation Metrics"
   ]
  },
  {
   "cell_type": "markdown",
   "metadata": {
    "colab_type": "text",
    "id": "L5YLIzt3gMEx"
   },
   "source": [
    "### Confusion Matrix Generation"
   ]
  },
  {
   "cell_type": "markdown",
   "metadata": {
    "colab_type": "text",
    "id": "a1vMyepjBV3a"
   },
   "source": [
    "A confusion matrix tells about whether the model did right/wrong or model is performing well or not.<br>\n",
    "1.True Positive(TP):True Positive are the cases when the actual class of the data point was 1(True) and predicted is also 1(True).<br>\n",
    "2.True Negative(TN):True Negative are the cases when the actual class of the data point was 0(False) and predicted is also 0(False)<br>\n",
    "3.False Positive(FP):False Positive are the cases when the actual class of the data point was 0(False) and predicted it as 1(True)<br>\n",
    "4.False Negative(FN):False Negative are the cases when the actual class of the data point was 1(True) and predicted it as 0(False).    "
   ]
  },
  {
   "cell_type": "code",
   "execution_count": 32,
   "metadata": {
    "colab": {
     "base_uri": "https://localhost:8080/",
     "height": 281
    },
    "colab_type": "code",
    "id": "PjHNFHzaSB58",
    "outputId": "3da191f8-f652-4172-8e75-dbf9ce885553"
   },
   "outputs": [
    {
     "data": {
      "image/png": "[encoded data removed]",
      "text/plain": [
       "<Figure size 1440x288 with 7 Axes>"
      ]
     },
     "metadata": {},
     "output_type": "display_data"
    }
   ],
   "source": [
    "from sklearn.metrics import confusion_matrix\n",
    "from sklearn.metrics import precision_recall_curve\n",
    "from matplotlib import pyplot\n",
    "f,ax=plt.subplots(1,4,figsize=(20,4))\n",
    "y_pred = cross_val_predict(RandomForestClassifier(n_estimators=100),smote_train,smote_target,cv=10)\n",
    "sns.heatmap(confusion_matrix(smote_target,y_pred),ax=ax[0],annot=True,fmt='2.0f')\n",
    "ax[0].set_title('Matrix for Random-Forests')\n",
    "y_pred = cross_val_predict(LogisticRegression(),smote_train,smote_target,cv=10)\n",
    "sns.heatmap(confusion_matrix(smote_target,y_pred),ax=ax[1],annot=True,fmt='2.0f')\n",
    "ax[1].set_title('Matrix for Logistic Regression')\n",
    "y_pred = cross_val_predict(DecisionTreeClassifier(),smote_train,smote_target,cv=10)\n",
    "sns.heatmap(confusion_matrix(smote_target,y_pred),ax=ax[2],annot=True,fmt='2.0f')\n",
    "ax[2].set_title('Matrix for Decision Tree')\n",
    "plt.subplots_adjust(hspace=0.2,wspace=0.2)\n",
    "plt.show()"
   ]
  },
  {
   "cell_type": "markdown",
   "metadata": {
    "colab_type": "text",
    "id": "Xg5UMOe-BV3f"
   },
   "source": [
    "Metric_1:\n",
    "    <ul><li>Accuracy=TP+TN/TP+TN+FP+FN.<br></li></ul>\n",
    "Metric_2:\n",
    "    <ul><li>Precision</li></ul>\n",
    "    Precision is out of all the data points the model predicted with **Positive** i.e how many did the model classify correctly.<br>\n",
    "   Formula:<br>\n",
    "        **Precision**=TP/(TP+FP).<br>\n",
    "Metric_3:\n",
    "    <ul><li>Recall</li></ul>\n",
    "    Recall is out of all the data points that are actually **Positive** i.e how many did the model classify correctly.<br>\n",
    "    Formula:<br>\n",
    "         **Recall**=TP/(TP+TN)\n",
    "    "
   ]
  },
  {
   "cell_type": "markdown",
   "metadata": {
    "colab_type": "text",
    "id": "82rq8VN4BV3f"
   },
   "source": [
    "***From the Bank Marketing dataset we need to predict whether the client is subscribe for the term deposit or not.So we consider precision as a validation metric instead of accuracy and we need to predict how many correclty Positive values are predicted and try to decrease false positive values***.  "
   ]
  },
  {
   "cell_type": "markdown",
   "metadata": {
    "colab_type": "text",
    "id": "lTr3qnxaBV3g"
   },
   "source": [
    "#### Confusion Matrix for RandomForest"
   ]
  },
  {
   "cell_type": "code",
   "execution_count": 33,
   "metadata": {
    "colab": {},
    "colab_type": "code",
    "id": "AiQOHxgdSB6B"
   },
   "outputs": [],
   "source": [
    "y_pred=cross_val_predict(RandomForestClassifier(n_estimators=1000),smote_train,smote_target,cv=10)\n",
    "def print_confusion_matrix(smote_target, y_pred):\n",
    "    cm = confusion_matrix(smote_target, y_pred)\n",
    "    return(cm[0][0], cm[0][1], cm[1][0], cm[1][1])\n"
   ]
  },
  {
   "cell_type": "code",
   "execution_count": 34,
   "metadata": {
    "colab": {
     "base_uri": "https://localhost:8080/",
     "height": 102
    },
    "colab_type": "code",
    "id": "anVgdYWfSB6G",
    "outputId": "320b1f94-fb8c-4c11-f4b6-30752ae37a64"
   },
   "outputs": [
    {
     "name": "stdout",
     "output_type": "stream",
     "text": [
      "True positive =  8779\n",
      "False positive =  446\n",
      "False negative =  358\n",
      "True negative =  8691\n",
      "precision value for random forest is:0.95\n"
     ]
    }
   ],
   "source": [
    "TN, FP, FN, TP =print_confusion_matrix(smote_target,y_pred)\n",
    "print('True positive = ', TP)\n",
    "print('False positive = ', FP)\n",
    "print('False negative = ', FN)\n",
    "print('True negative = ', TN)\n",
    "precision_rf=TP/(TP+FP)\n",
    "print(\"precision value for random forest is:{:.2f}\".format(precision_rf))"
   ]
  },
  {
   "cell_type": "markdown",
   "metadata": {
    "colab_type": "text",
    "id": "gPoXIi-iBV3k"
   },
   "source": [
    "This means **8779+8691=17,470** correct predictions and **446+358=804** are wrong predictions.<br>\n",
    "By looking at the metric,Random Forest classify correctly whose precision value is **0.95**  "
   ]
  },
  {
   "cell_type": "markdown",
   "metadata": {
    "colab_type": "text",
    "id": "96JkW0DgBV3k"
   },
   "source": [
    "#### Confusion Matric for Decision Tree Classifier"
   ]
  },
  {
   "cell_type": "code",
   "execution_count": 35,
   "metadata": {
    "colab": {
     "base_uri": "https://localhost:8080/",
     "height": 102
    },
    "colab_type": "code",
    "id": "9l6OkhhESB6J",
    "outputId": "fa8478a7-596d-4799-cd99-1799ee15a03c"
   },
   "outputs": [
    {
     "name": "stdout",
     "output_type": "stream",
     "text": [
      "True positive =  8489\n",
      "False positive =  816\n",
      "False negative =  648\n",
      "True negative =  8321\n",
      "precision value for Decision-Tree is:0.91\n"
     ]
    }
   ],
   "source": [
    "y_pred=cross_val_predict(DecisionTreeClassifier(),smote_train,smote_target,cv=10)\n",
    "TN, FP, FN, TP =print_confusion_matrix(smote_target,y_pred)\n",
    "print('True positive = ', TP)\n",
    "print('False positive = ', FP)\n",
    "print('False negative = ', FN)\n",
    "print('True negative = ', TN)\n",
    "precision_dt=TP/(TP+FP)\n",
    "print(\"precision value for Decision-Tree is:{:.2f}\".format(precision_dt))"
   ]
  },
  {
   "cell_type": "markdown",
   "metadata": {
    "colab_type": "text",
    "id": "Opdt6HKkBV3n"
   },
   "source": [
    "This means **8489+8321**=16,810 correct predictions and **816+648=1464** are wrong predictions.<br>\n",
    "By looking at the metric,Decision Tree classify correctly whose precision value is 0.91 "
   ]
  },
  {
   "cell_type": "markdown",
   "metadata": {
    "colab_type": "text",
    "id": "cvo4DBHlBV3n"
   },
   "source": [
    "#### Confusion Matric for LogisticRegression"
   ]
  },
  {
   "cell_type": "code",
   "execution_count": 36,
   "metadata": {
    "colab": {
     "base_uri": "https://localhost:8080/",
     "height": 102
    },
    "colab_type": "code",
    "id": "Itke7tB4SB6O",
    "outputId": "46799432-0d52-4e6b-b1a5-17be362a8edf"
   },
   "outputs": [
    {
     "name": "stdout",
     "output_type": "stream",
     "text": [
      "True positive =  8180\n",
      "False positive =  1274\n",
      "False negative =  957\n",
      "True negative =  7863\n",
      "precision value for LogisticRegression is:0.87\n"
     ]
    }
   ],
   "source": [
    "y_pred=cross_val_predict(LogisticRegression(),smote_train,smote_target,cv=10)\n",
    "TN, FP, FN, TP =print_confusion_matrix(smote_target,y_pred)\n",
    "print('True positive = ', TP)\n",
    "print('False positive = ', FP)\n",
    "print('False negative = ', FN)\n",
    "print('True negative = ', TN)\n",
    "precision_lr=TP/(TP+FP)\n",
    "precision_lr\n",
    "print(\"precision value for LogisticRegression is:{:.2f}\".format(precision_lr))"
   ]
  },
  {
   "cell_type": "markdown",
   "metadata": {
    "colab_type": "text",
    "id": "sAiBecE_BV3r"
   },
   "source": [
    "This means **6297+6341=16,043** correct predictions and **1274+957=2231** are wrong predictions.<br>\n",
    "By looking at the metric,Logistic Regression classify correctly whose precision value is 0.87 "
   ]
  },
  {
   "cell_type": "markdown",
   "metadata": {
    "colab_type": "text",
    "id": "Ek2qXAagBV3s"
   },
   "source": [
    "#### Interpreting Confusion Matrix"
   ]
  },
  {
   "cell_type": "markdown",
   "metadata": {
    "colab_type": "text",
    "id": "2yCNP94VBV3t"
   },
   "source": [
    "The left diagonal shows the number of correct predictions made for each class while the right diagonal shows the number of wrong predictions made.<br> \n",
    "\n",
    "By looking at all the matrices, we can say that<br> \n",
    "Random Forest has a higher chance in correctly predicting clients who are not subscribe for term deposit.<br> \n",
    "Logistic Regression has a higher chance in correctly predicting clients who subscibed for term deposit.<br>"
   ]
  },
  {
   "cell_type": "markdown",
   "metadata": {
    "colab_type": "text",
    "id": "R9zRCKAMSB6T"
   },
   "source": [
    "### Displaying precision value"
   ]
  },
  {
   "cell_type": "code",
   "execution_count": 37,
   "metadata": {
    "colab": {
     "base_uri": "https://localhost:8080/",
     "height": 142
    },
    "colab_type": "code",
    "id": "0eHba-MGSB6U",
    "outputId": "3282dbe7-dbe9-4f76-e24b-7c49e062dd7a"
   },
   "outputs": [
    {
     "data": {
      "text/html": [
       "<div>\n",
       "<style scoped>\n",
       "    .dataframe tbody tr th:only-of-type {\n",
       "        vertical-align: middle;\n",
       "    }\n",
       "\n",
       "    .dataframe tbody tr th {\n",
       "        vertical-align: top;\n",
       "    }\n",
       "\n",
       "    .dataframe thead th {\n",
       "        text-align: right;\n",
       "    }\n",
       "</style>\n",
       "<table border=\"1\" class=\"dataframe\">\n",
       "  <thead>\n",
       "    <tr style=\"text-align: right;\">\n",
       "      <th></th>\n",
       "      <th>Algorithm</th>\n",
       "      <th>precision_value</th>\n",
       "    </tr>\n",
       "  </thead>\n",
       "  <tbody>\n",
       "    <tr>\n",
       "      <th>0</th>\n",
       "      <td>Random_Forest</td>\n",
       "      <td>0.951653</td>\n",
       "    </tr>\n",
       "    <tr>\n",
       "      <th>1</th>\n",
       "      <td>Decision_tree</td>\n",
       "      <td>0.912305</td>\n",
       "    </tr>\n",
       "    <tr>\n",
       "      <th>2</th>\n",
       "      <td>Logistic_Regression</td>\n",
       "      <td>0.865242</td>\n",
       "    </tr>\n",
       "  </tbody>\n",
       "</table>\n",
       "</div>"
      ],
      "text/plain": [
       "             Algorithm  precision_value\n",
       "0        Random_Forest         0.951653\n",
       "1        Decision_tree         0.912305\n",
       "2  Logistic_Regression         0.865242"
      ]
     },
     "execution_count": 37,
     "metadata": {},
     "output_type": "execute_result"
    }
   ],
   "source": [
    "result=pd.DataFrame({\"Algorithm\":[\"Random_Forest\",\"Decision_tree\",\"Logistic_Regression\"],\"precision_value\":[precision_rf,precision_dt,precision_lr]})\n",
    "result"
   ]
  },
  {
   "cell_type": "markdown",
   "metadata": {
    "colab_type": "text",
    "id": "p_FViPuCBV3z"
   },
   "source": [
    "Among all the models, RandomForest has high precision value which acts as a model better for prediction but overfit heavily.So we need to use better paramters for this model to reduce the overfitting"
   ]
  },
  {
   "cell_type": "markdown",
   "metadata": {
    "colab_type": "text",
    "id": "8ALFVJO6SB6Z"
   },
   "source": [
    "### Bar plot to display precision-value"
   ]
  },
  {
   "cell_type": "code",
   "execution_count": 38,
   "metadata": {
    "colab": {
     "base_uri": "https://localhost:8080/",
     "height": 389
    },
    "colab_type": "code",
    "id": "gvKhUlBXSB6a",
    "outputId": "7155ffa2-073e-41ea-e6c5-6a0fbde62e5d"
   },
   "outputs": [
    {
     "data": {
      "text/plain": [
       "<matplotlib.axes._subplots.AxesSubplot at 0x29655704f60>"
      ]
     },
     "execution_count": 38,
     "metadata": {},
     "output_type": "execute_result"
    },
    {
     "data": {
      "image/png": "[encoded data removed]",
      "text/plain": [
       "<Figure size 432x288 with 1 Axes>"
      ]
     },
     "metadata": {},
     "output_type": "display_data"
    }
   ],
   "source": [
    "result.plot(kind='bar',x='Algorithm',y=\"precision_value\")"
   ]
  },
  {
   "cell_type": "markdown",
   "metadata": {
    "colab_type": "text",
    "id": "kQ8X625eBV32"
   },
   "source": [
    "**Grid Search to find better parameters inorder to avoid overfitting in the models** "
   ]
  },
  {
   "cell_type": "markdown",
   "metadata": {
    "colab_type": "text",
    "id": "vQsZiLpnm_hb"
   },
   "source": [
    "### Hyper Parameter Tuning Using Grid Search"
   ]
  },
  {
   "cell_type": "markdown",
   "metadata": {
    "colab_type": "text",
    "id": "E6TKdEcoBV33"
   },
   "source": [
    "Grid Search is used to avoid over-fitting of the model by tuning the parameters.<br>\n",
    "1.First define some parameters to perform grid search on.<br>\n",
    "2.Make a crore for the model using precision.<br>\n",
    "3.Perform grid search on the classifier,eusing the parameters and the scorer.<br>\n",
    "4.Fit the data to the new classifier<br>\n",
    "5.Find the Precision<br>\n",
    "6.If the model is not much better ,try changing the ranges for the parameters and fit it again<br>"
   ]
  },
  {
   "cell_type": "code",
   "execution_count": 39,
   "metadata": {
    "colab": {},
    "colab_type": "code",
    "id": "dH0l7-j2SB6e"
   },
   "outputs": [
    {
     "name": "stdout",
     "output_type": "stream",
     "text": [
      "Finishing Training\n"
     ]
    }
   ],
   "source": [
    "from sklearn.tree import DecisionTreeClassifier    #D.Tree\n",
    "from sklearn.ensemble import RandomForestClassifier #Forest\n",
    "from sklearn.linear_model import LogisticRegression    #Logistic Regression\n",
    "from sklearn.ensemble import GradientBoostingClassifier \n",
    "#Importing Model Validation\n",
    "from sklearn.metrics import accuracy_score, log_loss, confusion_matrix\n",
    "from sklearn.model_selection import cross_val_score\n",
    "\n",
    "#Initial Model Object from Class\n",
    "clf_dtree = DecisionTreeClassifier()\n",
    "clf_forest = RandomForestClassifier()\n",
    "clf_logreg = LogisticRegression()\n",
    "#clf_gbclf= GradientBoostingClassifier()\n",
    "classifiers = [\n",
    "    DecisionTreeClassifier(),\n",
    "    RandomForestClassifier(),\n",
    "    LogisticRegression(),\n",
    "     ]\n",
    "\n",
    "classifiers = [clf_dtree, clf_forest, clf_logreg]\n",
    "    \n",
    "#Step 2. Delcare parameters for training and do a hyperparameter tuning by gridsearch\n",
    "# You can change your parameters here!!!\n",
    "params_dtree = [{'criterion' : ['gini', 'entropy']}, {'splitter' : ['random', 'best']}]\n",
    "params_forest = [{'n_estimators' : range(1, 100)}, {'criterion':['entropy', 'gini']}]\n",
    "params_logreg = [{'penalty' : ['l1', 'l2']}, {'solver' : ['newton-cg', 'lbfgs', 'liblinear', 'sag', 'saga']}, {'max_iter' : range(100, 1000)}]\n",
    "\n",
    "    \n",
    "parameters = [\n",
    "        params_dtree,\n",
    "        params_forest,\n",
    "        params_logreg,\n",
    "          ]\n",
    "\n",
    "#Step 2. Training model using gridsearch\n",
    "#Importing Grid Search\n",
    "from sklearn.model_selection import GridSearchCV\n",
    "\n",
    "clf_best_acc = []\n",
    "clf_best_params = []\n",
    "clf_best_estimator = []\n",
    "\n",
    "        \n",
    "grid_searchs = [] #grid_search_knns, grid_search_dtree, grid_search_forest, grid_search_svm, grid_search_logreg, grid_search_naive\n",
    "\n",
    "#Training and append all of the best result from each model to a list\n",
    "for i in range(len(classifiers)):\n",
    "    grid_searchs.append(GridSearchCV(estimator=classifiers[i], param_grid=parameters[i], scoring='precision', cv=10, \n",
    "                                n_jobs=-1))   \n",
    "    grid_searchs[i].fit(X_train,y_train)\n",
    "\n",
    "    clf_best_acc.append(grid_searchs[i].best_score_)\n",
    "    clf_best_params.append(grid_searchs[i].best_params_)\n",
    "    clf_best_estimator.append(grid_searchs[i].best_estimator_)\n",
    "\n",
    "print(\"Finishing Training\")"
   ]
  },
  {
   "cell_type": "markdown",
   "metadata": {
    "colab_type": "text",
    "id": "LcYcnxy1BV36"
   },
   "source": [
    "#### Finding the Best Paramters and Best Estimators"
   ]
  },
  {
   "cell_type": "code",
   "execution_count": 40,
   "metadata": {
    "colab": {},
    "colab_type": "code",
    "id": "2mkpB0b-SB6h",
    "outputId": "ab47e279-f784-406c-d2f9-18fd07bb5945"
   },
   "outputs": [
    {
     "name": "stdout",
     "output_type": "stream",
     "text": [
      "Classifier name : DecisionTreeClassifier\n",
      "Accuracy : 0.913008825392635\n",
      "Best parameters : {'criterion': 'entropy'}\n",
      "Best estimator : DecisionTreeClassifier(class_weight=None, criterion='entropy', max_depth=None,\n",
      "                       max_features=None, max_leaf_nodes=None,\n",
      "                       min_impurity_decrease=0.0, min_impurity_split=None,\n",
      "                       min_samples_leaf=1, min_samples_split=2,\n",
      "                       min_weight_fraction_leaf=0.0, presort=False,\n",
      "                       random_state=None, splitter='best')\n",
      "************************************************************************************************\n",
      "Classifier name : RandomForestClassifier\n",
      "Accuracy : 0.9575119750761039\n",
      "Best parameters : {'n_estimators': 2}\n",
      "Best estimator : RandomForestClassifier(bootstrap=True, class_weight=None, criterion='gini',\n",
      "                       max_depth=None, max_features='auto', max_leaf_nodes=None,\n",
      "                       min_impurity_decrease=0.0, min_impurity_split=None,\n",
      "                       min_samples_leaf=1, min_samples_split=2,\n",
      "                       min_weight_fraction_leaf=0.0, n_estimators=2,\n",
      "                       n_jobs=None, oob_score=False, random_state=None,\n",
      "                       verbose=0, warm_start=False)\n",
      "************************************************************************************************\n",
      "Classifier name : LogisticRegression\n",
      "Accuracy : 0.8643586079877335\n",
      "Best parameters : {'solver': 'lbfgs'}\n",
      "Best estimator : LogisticRegression(C=1.0, class_weight=None, dual=False, fit_intercept=True,\n",
      "                   intercept_scaling=1, l1_ratio=None, max_iter=100,\n",
      "                   multi_class='warn', n_jobs=None, penalty='l2',\n",
      "                   random_state=None, solver='lbfgs', tol=0.0001, verbose=0,\n",
      "                   warm_start=False)\n",
      "************************************************************************************************\n"
     ]
    }
   ],
   "source": [
    "#best_classifier variable for storing best classifier from gridsearch as a dict : Key is the name of classifier, Value is list of [best accuracy, best parameters, best estimators]\n",
    "best_classifier = {}\n",
    "\n",
    "#Store each classifier in dictionary \n",
    "for i in range(len(classifiers)):\n",
    "    best_classifier[classifiers[i].__class__.__name__] = [clf_best_acc[i], clf_best_params[i], clf_best_estimator[i]]\n",
    "\n",
    "#Print out the result of each best classifier can do!!!\n",
    "for key, value in best_classifier.items():\n",
    "    print(\"Classifier name : \" + str(key), end=\"\\n\")\n",
    "    print(\"Accuracy : \" + str(value[0]), end=\"\\n\")    #value[0] is best acccuracy\n",
    "    print(\"Best parameters : \" + str(value[1]), end=\"\\n\")    #value[1] is best parameters\n",
    "    print(\"Best estimator : \" + str(value[2]), end=\"\\n\")    #value[2] is best estimators\n",
    "    print(\"************************************************************************************************\", end=\"\\n\")\n",
    "   "
   ]
  },
  {
   "cell_type": "markdown",
   "metadata": {
    "colab_type": "text",
    "id": "mRRlCWpHno3a"
   },
   "source": [
    "Observation:<br>\n",
    "    From the three classifier RandomForest has given the high accuracy after applying Hyper paramter tuning and cross validation "
   ]
  },
  {
   "cell_type": "markdown",
   "metadata": {
    "colab_type": "text",
    "id": "qdC309m_vplU"
   },
   "source": [
    "### Fitting the models on Best Parameters and Generating Confusion Matrix to find Precision value"
   ]
  },
  {
   "cell_type": "code",
   "execution_count": 41,
   "metadata": {
    "colab": {},
    "colab_type": "code",
    "id": "iJtPonRzSB6l",
    "outputId": "ac21b4cd-7c6c-41bf-858e-a081170ee2fe"
   },
   "outputs": [
    {
     "name": "stdout",
     "output_type": "stream",
     "text": [
      "Accuracy Score 0.960875512995896\n",
      "              precision    recall  f1-score   support\n",
      "\n",
      "           0       0.97      0.95      0.96      1815\n",
      "           1       0.95      0.97      0.96      1840\n",
      "\n",
      "    accuracy                           0.96      3655\n",
      "   macro avg       0.96      0.96      0.96      3655\n",
      "weighted avg       0.96      0.96      0.96      3655\n",
      "\n",
      "Total execution time: 2.368666410446167\n"
     ]
    }
   ],
   "source": [
    "from sklearn.model_selection import cross_val_predict\n",
    "import time\n",
    "start_time = time.time()\n",
    "# your code\n",
    "\n",
    "randf=RandomForestClassifier(bootstrap=True, class_weight=None, criterion='entropy',\n",
    "            max_depth=None, max_features='auto', max_leaf_nodes=None,\n",
    "            min_impurity_decrease=0.0, min_impurity_split=None,\n",
    "            min_samples_leaf=1, min_samples_split=2,\n",
    "            min_weight_fraction_leaf=0.0, n_estimators=100, n_jobs=None,\n",
    "            oob_score=False, random_state=42, verbose=0,\n",
    "            warm_start=False)\n",
    "\n",
    "randf.fit(X_train,y_train)\n",
    "y_pred_rf=randf.predict(X_test)\n",
    "print(\"Accuracy Score {}\".format(accuracy_score(y_test,y_pred_rf)))\n",
    "print(classification_report(y_test,y_pred_rf))\n",
    "end_time = time.time()\n",
    "print(\"Total execution time: {}\".format(end_time - start_time))\n"
   ]
  },
  {
   "cell_type": "markdown",
   "metadata": {
    "colab_type": "text",
    "id": "GuAogncZBV4A"
   },
   "source": [
    "**Random Forest model achieved an accuracy for testing 89% and execution time take to build model is 2.31sec**."
   ]
  },
  {
   "cell_type": "markdown",
   "metadata": {
    "colab_type": "text",
    "id": "wtDjnFMTBV4A"
   },
   "source": [
    "#### Confusion Matrix on Random Forest Classifier"
   ]
  },
  {
   "cell_type": "code",
   "execution_count": 42,
   "metadata": {
    "colab": {},
    "colab_type": "code",
    "id": "foyTZqU3SB6q",
    "outputId": "02bf93b7-94eb-4d6d-9075-5d22cddaee01"
   },
   "outputs": [
    {
     "data": {
      "image/png": "[encoded data removed]",
      "text/plain": [
       "<Figure size 432x288 with 2 Axes>"
      ]
     },
     "metadata": {},
     "output_type": "display_data"
    }
   ],
   "source": [
    "sns.heatmap(confusion_matrix(y_test,y_pred_rf),cmap='winter',annot=True,fmt='2.0f')\n",
    "plt.show()"
   ]
  },
  {
   "cell_type": "code",
   "execution_count": 43,
   "metadata": {
    "colab": {},
    "colab_type": "code",
    "id": "FeY2w2xSSB6x",
    "outputId": "e03d6717-7a21-43a8-ab93-a49c1472d98c"
   },
   "outputs": [
    {
     "name": "stdout",
     "output_type": "stream",
     "text": [
      "True positive =  1781\n",
      "False positive =  84\n",
      "False negative =  59\n",
      "True negative =  1731\n",
      "precision value for random forest is:0.95\n"
     ]
    }
   ],
   "source": [
    "TN, FP, FN, TP =print_confusion_matrix(y_test,y_pred_rf)\n",
    "print('True positive = ', TP)\n",
    "print('False positive = ', FP)\n",
    "print('False negative = ', FN)\n",
    "print('True negative = ', TN)\n",
    "test_precision_rf=TP/(TP+FP)\n",
    "print(\"precision value for random forest is:{:.2f}\".format(test_precision_rf))"
   ]
  },
  {
   "cell_type": "markdown",
   "metadata": {
    "colab_type": "text",
    "id": "qjEus1bsBV4E"
   },
   "source": [
    "This means 100+1752=1852 correct predictions and 100+70=170 are wrong predictions.\n",
    "By looking at the metric,RandomForest correctly predicted **Positive** values with a precision of 0.59 "
   ]
  },
  {
   "cell_type": "markdown",
   "metadata": {
    "colab_type": "text",
    "id": "E9_siiScBV4F"
   },
   "source": [
    "#### Confusion Matrix on Decision Tree Classifier"
   ]
  },
  {
   "cell_type": "code",
   "execution_count": 44,
   "metadata": {
    "colab": {},
    "colab_type": "code",
    "id": "vkV9ytdHBV4F",
    "outputId": "e3bccb41-cfa7-460a-b5ca-8f1b146b44bc"
   },
   "outputs": [
    {
     "name": "stdout",
     "output_type": "stream",
     "text": [
      "Accuracy Score 0.9277701778385773\n",
      "              precision    recall  f1-score   support\n",
      "\n",
      "           0       0.94      0.91      0.93      1815\n",
      "           1       0.92      0.94      0.93      1840\n",
      "\n",
      "    accuracy                           0.93      3655\n",
      "   macro avg       0.93      0.93      0.93      3655\n",
      "weighted avg       0.93      0.93      0.93      3655\n",
      "\n",
      "Total execution time: 0.2489480972290039\n"
     ]
    }
   ],
   "source": [
    "from sklearn.model_selection import cross_val_predict\n",
    "import time\n",
    "start_time = time.time()\n",
    "\n",
    "des=DecisionTreeClassifier(class_weight=None, criterion='entropy', max_depth=None,\n",
    "                       max_features=None, max_leaf_nodes=None,\n",
    "                       min_impurity_decrease=0.0, min_impurity_split=None,\n",
    "                       min_samples_leaf=1, min_samples_split=2,\n",
    "                       min_weight_fraction_leaf=0.0, presort=False,\n",
    "                       random_state=42, splitter='best')\n",
    "des.fit(X_train,y_train)\n",
    "\n",
    "y_pred_ds=des.predict(X_test)\n",
    "print(\"Accuracy Score {}\".format(accuracy_score(y_test,y_pred_ds)))\n",
    "print(classification_report(y_test,y_pred_ds))\n",
    "\n",
    "end_time = time.time()\n",
    "print(\"Total execution time: {}\".format(end_time - start_time))\n"
   ]
  },
  {
   "cell_type": "markdown",
   "metadata": {
    "colab_type": "text",
    "id": "d8FbQ5KfBV4I"
   },
   "source": [
    "**DecisionTree model achieved an accuracy for testing 92% and execution time taken to build model is 0.24sec**."
   ]
  },
  {
   "cell_type": "code",
   "execution_count": 45,
   "metadata": {
    "colab": {},
    "colab_type": "code",
    "id": "fQzTmUseSB67",
    "outputId": "e8ef19f0-8ede-4ab2-ac48-fa8bd618b410"
   },
   "outputs": [
    {
     "data": {
      "image/png": "[encoded data removed]",
      "text/plain": [
       "<Figure size 432x288 with 2 Axes>"
      ]
     },
     "metadata": {},
     "output_type": "display_data"
    }
   ],
   "source": [
    "sns.heatmap(confusion_matrix(y_test,y_pred_ds),cmap='winter',annot=True,fmt='2.0f')\n",
    "plt.show()"
   ]
  },
  {
   "cell_type": "code",
   "execution_count": 46,
   "metadata": {
    "colab": {},
    "colab_type": "code",
    "id": "PnLjOXmuBV4K",
    "outputId": "b13fd253-d58c-4c7c-ee5c-906af58a16c9"
   },
   "outputs": [
    {
     "name": "stdout",
     "output_type": "stream",
     "text": [
      "True positive =  1732\n",
      "False positive =  156\n",
      "False negative =  108\n",
      "True negative =  1659\n",
      "precision value for decision tree is:0.92\n"
     ]
    }
   ],
   "source": [
    "TN, FP, FN, TP =print_confusion_matrix(y_test,y_pred_ds)\n",
    "print('True positive = ', TP)\n",
    "print('False positive = ', FP)\n",
    "print('False negative = ', FN)\n",
    "print('True negative = ', TN)\n",
    "test_precision_ds=TP/(TP+FP)\n",
    "print(\"precision value for decision tree is:{:.2f}\".format(test_precision_ds))"
   ]
  },
  {
   "cell_type": "markdown",
   "metadata": {
    "colab_type": "text",
    "id": "y5wXCRXCBV4N"
   },
   "source": [
    "This means 1732+1659=3391 correct predictions and 156+108=261 are wrong predictions.<br>\n",
    "By looking at the metric,DecisionTree correctly predicted **Positive** values with a precision of  0.92 "
   ]
  },
  {
   "cell_type": "markdown",
   "metadata": {
    "colab_type": "text",
    "id": "0JqdARMZBV4N"
   },
   "source": [
    "#### Confusion Matrix on LogisticRegression"
   ]
  },
  {
   "cell_type": "code",
   "execution_count": 47,
   "metadata": {
    "colab": {},
    "colab_type": "code",
    "id": "8GoprvsOBV4O",
    "outputId": "eae9672c-dd05-4bc9-e3de-244e6cc6a61c"
   },
   "outputs": [
    {
     "name": "stdout",
     "output_type": "stream",
     "text": [
      "Accuracy Score 0.8782489740082079\n",
      "              precision    recall  f1-score   support\n",
      "\n",
      "           0       0.88      0.87      0.88      1815\n",
      "           1       0.87      0.89      0.88      1840\n",
      "\n",
      "    accuracy                           0.88      3655\n",
      "   macro avg       0.88      0.88      0.88      3655\n",
      "weighted avg       0.88      0.88      0.88      3655\n",
      "\n",
      "Total execution time: 0.5505280494689941\n"
     ]
    }
   ],
   "source": [
    "from sklearn.model_selection import cross_val_predict\n",
    "import time\n",
    "start_time = time.time()\n",
    "\n",
    "lgr=LogisticRegression(C=1.0, class_weight=None, dual=False, fit_intercept=True,\n",
    "                   intercept_scaling=1, l1_ratio=None, max_iter=100,\n",
    "                   multi_class='warn', n_jobs=None, penalty='l2',\n",
    "                   random_state=None, solver='newton-cg', tol=0.0001, verbose=0,\n",
    "                   warm_start=False)\n",
    "lgr.fit(X_train,y_train)\n",
    "y_pred_lr=lgr.predict(X_test)\n",
    "print(\"Accuracy Score {}\".format(accuracy_score(y_test,y_pred_lr)))\n",
    "print(classification_report(y_test,y_pred_lr))\n",
    "end_time = time.time()\n",
    "print(\"Total execution time: {}\".format(end_time - start_time))\n"
   ]
  },
  {
   "cell_type": "markdown",
   "metadata": {
    "colab_type": "text",
    "id": "vvJinwrYBV4Q"
   },
   "source": [
    "**LogisticRegression model achieved an accuracy for testing 87% and execution time taken to build model is 0.55sec**."
   ]
  },
  {
   "cell_type": "code",
   "execution_count": 49,
   "metadata": {
    "colab": {},
    "colab_type": "code",
    "id": "-M62fheLBV4Q",
    "outputId": "f351f10c-3f15-41e6-ce13-25fd1f64dc6f"
   },
   "outputs": [
    {
     "data": {
      "image/png": "[encoded data removed]",
      "text/plain": [
       "<Figure size 432x288 with 2 Axes>"
      ]
     },
     "metadata": {},
     "output_type": "display_data"
    }
   ],
   "source": [
    "sns.heatmap(confusion_matrix(y_test,y_pred_lr),cmap='winter',annot=True,fmt='2.0f')\n",
    "plt.show()"
   ]
  },
  {
   "cell_type": "code",
   "execution_count": 52,
   "metadata": {
    "colab": {},
    "colab_type": "code",
    "id": "iiyRghQCBV4S",
    "outputId": "3c5c1229-9de9-4ac2-e625-3a0c9a363f07"
   },
   "outputs": [
    {
     "name": "stdout",
     "output_type": "stream",
     "text": [
      "True positive =  1632\n",
      "False positive =  237\n",
      "False negative =  208\n",
      "True negative =  1578\n",
      "precision value for LogisticRegression is:0.87\n"
     ]
    }
   ],
   "source": [
    "TN, FP, FN, TP =print_confusion_matrix(y_test,y_pred_lr)\n",
    "print('True positive = ', TP)\n",
    "print('False positive = ', FP)\n",
    "print('False negative = ', FN)\n",
    "print('True negative = ', TN)\n",
    "test_precision_lr=TP/(TP+FP)\n",
    "print(\"precision value for LogisticRegression is:{:.2f}\".format(test_precision_lr))"
   ]
  },
  {
   "cell_type": "markdown",
   "metadata": {
    "colab_type": "text",
    "id": "UMx4D2JkBV4T"
   },
   "source": [
    "This means **1632+1578= 3210** correct predictions and **237+208=445** are wrong predictions.<br>\n",
    "By looking at the metric,LogisticRegression correctly predicted **Positive** values with a precision of  0.87 \n"
   ]
  },
  {
   "cell_type": "markdown",
   "metadata": {
    "colab_type": "text",
    "id": "PRW6paExBV4U"
   },
   "source": [
    "### Measuring Precision values for Testing Data"
   ]
  },
  {
   "cell_type": "code",
   "execution_count": 53,
   "metadata": {
    "colab": {},
    "colab_type": "code",
    "id": "IDFHw4kUBV4U",
    "outputId": "25034b65-b032-4206-82ec-0b5e2c30e653"
   },
   "outputs": [
    {
     "data": {
      "text/html": [
       "<div>\n",
       "<style scoped>\n",
       "    .dataframe tbody tr th:only-of-type {\n",
       "        vertical-align: middle;\n",
       "    }\n",
       "\n",
       "    .dataframe tbody tr th {\n",
       "        vertical-align: top;\n",
       "    }\n",
       "\n",
       "    .dataframe thead th {\n",
       "        text-align: right;\n",
       "    }\n",
       "</style>\n",
       "<table border=\"1\" class=\"dataframe\">\n",
       "  <thead>\n",
       "    <tr style=\"text-align: right;\">\n",
       "      <th></th>\n",
       "      <th>Algorithm</th>\n",
       "      <th>precision_value</th>\n",
       "    </tr>\n",
       "  </thead>\n",
       "  <tbody>\n",
       "    <tr>\n",
       "      <th>0</th>\n",
       "      <td>Random_Forest</td>\n",
       "      <td>0.954960</td>\n",
       "    </tr>\n",
       "    <tr>\n",
       "      <th>1</th>\n",
       "      <td>Decision_tree</td>\n",
       "      <td>0.917373</td>\n",
       "    </tr>\n",
       "    <tr>\n",
       "      <th>2</th>\n",
       "      <td>Logistic_Regression</td>\n",
       "      <td>0.873194</td>\n",
       "    </tr>\n",
       "  </tbody>\n",
       "</table>\n",
       "</div>"
      ],
      "text/plain": [
       "             Algorithm  precision_value\n",
       "0        Random_Forest         0.954960\n",
       "1        Decision_tree         0.917373\n",
       "2  Logistic_Regression         0.873194"
      ]
     },
     "execution_count": 53,
     "metadata": {},
     "output_type": "execute_result"
    }
   ],
   "source": [
    "result=pd.DataFrame({\"Algorithm\":[\"Random_Forest\",\"Decision_tree\",\"Logistic_Regression\"],\"precision_value\":[test_precision_rf,test_precision_ds,test_precision_lr]})\n",
    "result"
   ]
  },
  {
   "cell_type": "markdown",
   "metadata": {},
   "source": [
    "The precision value for RandomForest is high.   "
   ]
  },
  {
   "cell_type": "markdown",
   "metadata": {
    "colab_type": "text",
    "id": "ZKNT4xV5BV4X"
   },
   "source": [
    "### Bar Plot to display testing data precision values"
   ]
  },
  {
   "cell_type": "code",
   "execution_count": 54,
   "metadata": {
    "colab": {},
    "colab_type": "code",
    "id": "GvR9l9b7BV4X",
    "outputId": "d604c7e8-5767-4eac-cebc-60637aa5357c"
   },
   "outputs": [
    {
     "data": {
      "image/png": "[encoded data removed]",
      "text/plain": [
       "<Figure size 842.4x595.44 with 1 Axes>"
      ]
     },
     "metadata": {},
     "output_type": "display_data"
    }
   ],
   "source": [
    "import seaborn as sns\n",
    "import matplotlib.pyplot as plt\n",
    "sns.set(style=\"whitegrid\", color_codes=True)\n",
    "sns.set(rc={'figure.figsize':(11.7,8.27)})\n",
    "ax=sns.barplot(x='Algorithm',y=\"precision_value\",data=result)\n",
    "ax.set_title(\"Testing data precision values\")\n",
    "sns.despine(offset=10, trim=True)\n"
   ]
  },
  {
   "cell_type": "markdown",
   "metadata": {
    "colab_type": "text",
    "id": "f_wp2t6VBV4Z"
   },
   "source": [
    "### Final Observation"
   ]
  },
  {
   "cell_type": "markdown",
   "metadata": {
    "colab_type": "text",
    "id": "EuvJFNlXBV4a"
   },
   "source": [
    "**From above graph and by looking at all the metrices, we can say that<br> \n",
    "Random Forest has a higher chance in correctly predicting a potential customer turning out to be customer than other two models.** \n"
   ]
  },
  {
   "cell_type": "code",
   "execution_count": 56,
   "metadata": {
    "colab": {},
    "colab_type": "code",
    "id": "ltXMBdqJBV4a"
   },
   "outputs": [
    {
     "data": {
      "image/png": "[encoded data removed]",
      "text/plain": [
       "<IPython.core.display.Image object>"
      ]
     },
     "execution_count": 56,
     "metadata": {},
     "output_type": "execute_result"
    }
   ],
   "source": [
    "from IPython.display import Image\n",
    "Image(filename='Best_Model.png')"
   ]
  },
  {
   "cell_type": "code",
   "execution_count": null,
   "metadata": {},
   "outputs": [],
   "source": []
  }
 ],
 "metadata": {
  "colab": {
   "name": "Copy of ML-1_Project_ModelBuilding.ipynb",
   "provenance": [],
   "version": "0.3.2"
  },
  "kernelspec": {
   "display_name": "Python 3",
   "language": "python",
   "name": "python3"
  },
  "language_info": {
   "codemirror_mode": {
    "name": "ipython",
    "version": 3
   },
   "file_extension": ".py",
   "mimetype": "text/x-python",
   "name": "python",
   "nbconvert_exporter": "python",
   "pygments_lexer": "ipython3",
   "version": "3.6.5"
  },
  "toc": {
   "base_numbering": 1,
   "nav_menu": {},
   "number_sections": true,
   "sideBar": true,
   "skip_h1_title": false,
   "title_cell": "Table of Contents",
   "title_sidebar": "Contents",
   "toc_cell": true,
   "toc_position": {},
   "toc_section_display": true,
   "toc_window_display": true
  }
 },
 "nbformat": 4,
 "nbformat_minor": 1
}
